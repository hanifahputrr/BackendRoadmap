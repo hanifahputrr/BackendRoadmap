{
  "nbformat": 4,
  "nbformat_minor": 0,
  "metadata": {
    "colab": {
      "provenance": []
    },
    "kernelspec": {
      "name": "python3",
      "display_name": "Python 3"
    },
    "language_info": {
      "name": "python"
    }
  },
  "cells": [
    {
      "cell_type": "code",
      "execution_count": 2,
      "metadata": {
        "id": "GMXFIlhoWB3M"
      },
      "outputs": [],
      "source": [
        "from abc import ABC, abstractmethod\n",
        "\n",
        "import threading\n",
        "\n",
        "import time\n",
        "\n",
        "import random\n",
        "\n",
        "from functools import partial\n",
        "\n",
        "\n",
        "class Kendaraan(ABC):\n",
        "    def __init__(self, nama):\n",
        "        self.nama = nama\n",
        "        self.posisi = 0\n",
        "\n",
        "    @abstractmethod\n",
        "    def bergerak(self):\n",
        "        pass"
      ]
    },
    {
      "cell_type": "code",
      "source": [
        "class Mobil(Kendaraan):\n",
        "    def bergerak(self):\n",
        "        self.posisi += 1\n",
        "        print(f\"{self.nama} (Mobil) bergerak ke posisi {self.posisi}\")\n",
        "\n",
        "\n",
        "class Motor(Kendaraan):\n",
        "    def bergerak(self):\n",
        "        self.posisi += 1\n",
        "        print(f\"{self.nama} (Motor) bergerak ke posisi {self.posisi}\")"
      ],
      "metadata": {
        "id": "OhwFhUXxWW6E"
      },
      "execution_count": 4,
      "outputs": []
    },
    {
      "cell_type": "code",
      "source": [
        "def cek_kemacetan(nama_kendaraan):\n",
        "    print(f\"{nama_kendaraan} mengecek kemacetan...\")\n",
        "    time.sleep(random.uniform(1, 2))\n",
        "    print(f\"{nama_kendaraan} selesai mengecek kemacetan!\")\n",
        "\n",
        "\n",
        "def demo_lambda_comprehensions():\n",
        "    print(\"Demo lambda dan comprehensions:\")\n",
        "    numbers = [1, 2, 3, 4, 5]\n",
        "    squares = [x ** 2 for x in numbers]\n",
        "    even_numbers = [x for x in numbers if x % 2 == 0]\n",
        "    area = lambda w, h: w * h\n",
        "\n",
        "    print(\"Squares:\", squares)\n",
        "    print(\"Even numbers:\", even_numbers)\n",
        "    print(\"Area of 5x10:\", area(5, 10))"
      ],
      "metadata": {
        "id": "J8bBOYQ7XKBY"
      },
      "execution_count": 5,
      "outputs": []
    },
    {
      "cell_type": "code",
      "source": [
        "def demo_dictionary_comprehension():\n",
        "    print(\"Demo dictionary comprehension:\")\n",
        "    names = [\"John\", \"Mary\", \"Bob\"]\n",
        "    ages = [20, 25, 30]\n",
        "    people = {name: age for name, age in zip(names, ages)}\n",
        "    print(\"Dictionary:\", people)\n",
        "\n",
        "\n",
        "if __name__ == \"__main__\":\n",
        "    mobil1 = Mobil(\"Audi\")\n",
        "    motor1 = Motor(\"Yamaha\")\n",
        "\n",
        "\n",
        "    mobil1.bergerak()\n",
        "    motor1.bergerak()\n",
        "\n",
        "\n",
        "    threads = []\n",
        "    for kendaraan in [mobil1.nama, motor1.nama]:\n",
        "        t = threading.Thread(target=cek_kemacetan, args=(kendaraan,))\n",
        "        t.start()\n",
        "        threads.append(t)\n",
        "\n",
        "    for t in threads:\n",
        "        t.join()\n",
        "\n",
        "\n",
        "    demo_lambda_comprehensions()\n",
        "    demo_dictionary_comprehension()\n",
        "\n",
        "    print(\"Simulasi selesai.\")\n"
      ],
      "metadata": {
        "colab": {
          "base_uri": "https://localhost:8080/"
        },
        "id": "SfiQ3iIiXaQZ",
        "outputId": "c84560f5-a431-4a79-ed50-4ea653eccb4f"
      },
      "execution_count": 6,
      "outputs": [
        {
          "output_type": "stream",
          "name": "stdout",
          "text": [
            "Audi (Mobil) bergerak ke posisi 1\n",
            "Yamaha (Motor) bergerak ke posisi 1\n",
            "Audi mengecek kemacetan...\n",
            "Yamaha mengecek kemacetan...\n",
            "Audi selesai mengecek kemacetan!\n",
            "Yamaha selesai mengecek kemacetan!\n",
            "Demo lambda dan comprehensions:\n",
            "Squares: [1, 4, 9, 16, 25]\n",
            "Even numbers: [2, 4]\n",
            "Area of 5x10: 50\n",
            "Demo dictionary comprehension:\n",
            "Dictionary: {'John': 20, 'Mary': 25, 'Bob': 30}\n",
            "Simulasi selesai.\n"
          ]
        }
      ]
    }
  ]
}